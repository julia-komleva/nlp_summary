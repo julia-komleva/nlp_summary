{
 "cells": [
  {
   "cell_type": "code",
   "execution_count": 1,
   "metadata": {},
   "outputs": [],
   "source": [
    "from gensim import summarization"
   ]
  },
  {
   "cell_type": "code",
   "execution_count": 2,
   "metadata": {},
   "outputs": [],
   "source": [
    "import json\n",
    "\n",
    "with open('dataset_43428_1.txt', 'r') as reader:\n",
    "    texts = reader.read()\n",
    "\n",
    "texts = json.loads(texts)\n",
    "\n",
    "summaries = [summarization.summarize(text) for text in texts]\n",
    "\n",
    "with open('result.json', 'w+') as writer:\n",
    "    writer.writelines(json.dumps(summaries, ensure_ascii=False))\n",
    "\n",
    "keywords = [summarization.keywords(text) for text in texts]\n",
    "\n",
    "with open('result_keywords.json', 'w+') as writer:\n",
    "    writer.writelines(json.dumps(keywords, ensure_ascii=False))\n"
   ]
  },
  {
   "cell_type": "code",
   "execution_count": null,
   "metadata": {},
   "outputs": [],
   "source": []
  }
 ],
 "metadata": {
  "kernelspec": {
   "display_name": "Python 3",
   "language": "python",
   "name": "python3"
  },
  "language_info": {
   "codemirror_mode": {
    "name": "ipython",
    "version": 3
   },
   "file_extension": ".py",
   "mimetype": "text/x-python",
   "name": "python",
   "nbconvert_exporter": "python",
   "pygments_lexer": "ipython3",
   "version": "3.6.8"
  }
 },
 "nbformat": 4,
 "nbformat_minor": 2
}
